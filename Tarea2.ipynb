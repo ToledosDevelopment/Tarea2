{
 "cells": [
  {
   "cell_type": "markdown",
   "id": "929eff94",
   "metadata": {},
   "source": [
    "# TAREA 2 DE GRAFICACIÓN"
   ]
  },
  {
   "cell_type": "markdown",
   "id": "5bed0530",
   "metadata": {},
   "source": [
    "## Importamos las librerías necesarias para la manipulación de las imágenes"
   ]
  },
  {
   "cell_type": "code",
   "execution_count": 3,
   "id": "774ed0ee",
   "metadata": {},
   "outputs": [],
   "source": [
    "import os\n",
    "from PIL import Image\n",
    "import ImageHelper\n",
    "import MorphologyHelper\n",
    "import TableHelper\n",
    "from JSONHelper import JSONHelper"
   ]
  },
  {
   "cell_type": "markdown",
   "id": "b84dc76f",
   "metadata": {},
   "source": [
    "## Definimos los directorios de los archivos que utilizaremos"
   ]
  },
  {
   "cell_type": "code",
   "execution_count": null,
   "id": "25f58fcd",
   "metadata": {},
   "outputs": [],
   "source": [
    "img_dir = \"imagenes\"\n",
    "txt_dir = \"txt_images\"\n",
    "plot_img_dir = \"plt_images\"\n",
    "contour_txt_dir = \"contour_txt_images\"\n",
    "morph_dir = \"morph_images\""
   ]
  },
  {
   "cell_type": "markdown",
   "id": "34453ac9",
   "metadata": {},
   "source": [
    "## Obtenemos las imágenes de la carpeta de imágenes y las guardamos en un arreglo"
   ]
  },
  {
   "cell_type": "code",
   "execution_count": null,
   "id": "04d655c8",
   "metadata": {},
   "outputs": [],
   "source": [
    "imgList =  os.listdir(\"imagenes\")\n",
    "images = []\n",
    "for imPath in imgList:\n",
    "    with Image.open(os.path.join(\"imagenes\", imPath)) as im:\n",
    "        im = im.convert(\"1\")\n",
    "        ImageHelper.setImageID(im)\n",
    "        images.append(im)"
   ]
  },
  {
   "cell_type": "markdown",
   "id": "e560590e",
   "metadata": {},
   "source": [
    "## Punto 2, 3 y 4"
   ]
  },
  {
   "cell_type": "markdown",
   "id": "4e5e17c7",
   "metadata": {},
   "source": [
    "### Definimos la imagen base para el escalado de las imágenes"
   ]
  },
  {
   "cell_type": "code",
   "execution_count": null,
   "id": "f2d862a4",
   "metadata": {},
   "outputs": [],
   "source": [
    "baseImage = images[0]"
   ]
  },
  {
   "cell_type": "markdown",
   "id": "5858ee20",
   "metadata": {},
   "source": [
    "### Escalamos las imágenes, obtenemos los invariantes eta y los uno pixeles y presentamos los resultados en una tabla"
   ]
  },
  {
   "cell_type": "code",
   "execution_count": null,
   "id": "72dd5af9",
   "metadata": {},
   "outputs": [],
   "source": [
    "scaledImages, etaInvariants, etaInvariantsScaled, scales, opx, opxScaled = ImageHelper.scaleImagesAndGetInvariants(baseImage, images)\n",
    "TableHelper.presentEtaInvariantsOnTable(imgList, scales, etaInvariants, etaInvariantsScaled, opx, opxScaled)"
   ]
  },
  {
   "cell_type": "markdown",
   "id": "7b69ccd4",
   "metadata": {},
   "source": [
    "### Con la función getTxtImagesFromFolder() generamos los archivos txt de las imagenes originales ya en aproximadamente la misma escala de 1-pixeles"
   ]
  },
  {
   "cell_type": "code",
   "execution_count": null,
   "id": "97bee618",
   "metadata": {},
   "outputs": [],
   "source": []
  },
  {
   "cell_type": "markdown",
   "id": "6b491737",
   "metadata": {},
   "source": [
    "## Punto 5"
   ]
  },
  {
   "cell_type": "code",
   "execution_count": null,
   "id": "4f5a864b",
   "metadata": {},
   "outputs": [],
   "source": [
    "# ImageHelper.plotBinaryImagesFromFolder(txt_dir,plot_img_dir)"
   ]
  },
  {
   "cell_type": "markdown",
   "id": "1829c2bc",
   "metadata": {},
   "source": [
    "## Punto 6"
   ]
  },
  {
   "cell_type": "code",
   "execution_count": null,
   "id": "2667a00b",
   "metadata": {},
   "outputs": [],
   "source": [
    "# ImageHelper.getContoursOfFolder(txt_dir,contour_txt_dir)\n",
    "# ImageHelper.plotBinaryImageNoGridFromFolder(contour_txt_dir,\"contour_images\")"
   ]
  },
  {
   "cell_type": "markdown",
   "id": "83e07e4b",
   "metadata": {},
   "source": [
    "## Punto 7"
   ]
  },
  {
   "cell_type": "markdown",
   "id": "41c9152c",
   "metadata": {},
   "source": [
    "### Trasladamos las imágenes y obtenemos las invariantes de mu (momentos centrales)"
   ]
  },
  {
   "cell_type": "code",
   "execution_count": null,
   "id": "74666338",
   "metadata": {},
   "outputs": [],
   "source": [
    "translatedImages, muInvariants, muInvariantsTranslated, translations = ImageHelper.translateImagesAndGetInvariants(images)\n",
    "TableHelper.presentMuInvariantsOnTable(imgList, translations, muInvariants, muInvariantsTranslated)"
   ]
  },
  {
   "cell_type": "markdown",
   "id": "bb69eb41",
   "metadata": {},
   "source": [
    "## Punto 8"
   ]
  },
  {
   "cell_type": "markdown",
   "id": "5626be8e",
   "metadata": {},
   "source": [
    "### Rotamos las imágenes y obtenemos los invariantes de phi\n"
   ]
  },
  {
   "cell_type": "code",
   "execution_count": null,
   "id": "78da8928",
   "metadata": {},
   "outputs": [],
   "source": [
    "scaledImages, phiInvariants, phiInvariantsScaled, degrees = ImageHelper.rotateImagesAndGetInvariants(images)\n",
    "TableHelper.presentPhiInvariantsOnTable(imgList, degrees, phiInvariants, phiInvariantsScaled)"
   ]
  },
  {
   "cell_type": "markdown",
   "id": "ae88a53e",
   "metadata": {},
   "source": [
    "## Punto 9"
   ]
  },
  {
   "cell_type": "markdown",
   "id": "6cdc7634",
   "metadata": {},
   "source": [
    "### Generamos los cambios mofologicos y remarcamos las diferencias con la imagen original con color verde"
   ]
  },
  {
   "cell_type": "code",
   "execution_count": null,
   "id": "970cfe7b",
   "metadata": {},
   "outputs": [],
   "source": [
    "# MorphologyHelper.getMorphImagesFromFolder(txt_dir,morph_dir)"
   ]
  }
 ],
 "metadata": {
  "kernelspec": {
   "display_name": "Python 3",
   "language": "python",
   "name": "python3"
  },
  "language_info": {
   "codemirror_mode": {
    "name": "ipython",
    "version": 3
   },
   "file_extension": ".py",
   "mimetype": "text/x-python",
   "name": "python",
   "nbconvert_exporter": "python",
   "pygments_lexer": "ipython3",
   "version": "3.11.5"
  }
 },
 "nbformat": 4,
 "nbformat_minor": 5
}
