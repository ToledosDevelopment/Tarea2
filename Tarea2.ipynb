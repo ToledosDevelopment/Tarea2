{
 "cells": [
  {
   "cell_type": "markdown",
   "id": "929eff94",
   "metadata": {},
   "source": [
    "# TAREA 2 DE GRAFICACIÓN"
   ]
  },
  {
   "cell_type": "markdown",
   "id": "5bed0530",
   "metadata": {},
   "source": [
    "## Importamos las librerías necesarias para la manipulación de las imágenes"
   ]
  },
  {
   "cell_type": "code",
   "execution_count": 4,
   "id": "774ed0ee",
   "metadata": {},
   "outputs": [],
   "source": [
    "import os\n",
    "from PIL import Image\n",
    "import ImageHelper\n",
    "import MorphologyHelper\n",
    "import TableHelper\n",
    "from JSONHelper import JSONHelper"
   ]
  },
  {
   "cell_type": "markdown",
   "id": "b84dc76f",
   "metadata": {},
   "source": [
    "## Definimos los directorios de los archivos que utilizaremos"
   ]
  },
  {
   "cell_type": "code",
   "execution_count": 5,
   "id": "25f58fcd",
   "metadata": {},
   "outputs": [],
   "source": [
    "img_dir = \"imagenes\"\n",
    "txt_dir = \"txt_images\"\n",
    "plot_img_dir = \"plt_images\"\n",
    "contour_txt_dir = \"contour_txt_images\"\n",
    "morph_dir = \"morph_images\""
   ]
  },
  {
   "cell_type": "markdown",
   "id": "34453ac9",
   "metadata": {},
   "source": [
    "## Obtenemos las imágenes de la carpeta de imágenes y las guardamos en un arreglo"
   ]
  },
  {
   "cell_type": "code",
   "execution_count": 6,
   "id": "04d655c8",
   "metadata": {},
   "outputs": [],
   "source": [
    "imgList =  os.listdir(\"imagenes\")\n",
    "images = []\n",
    "for imPath in imgList:\n",
    "    with Image.open(os.path.join(\"imagenes\", imPath)) as im:\n",
    "        im = im.convert(\"1\")\n",
    "        ImageHelper.setImageID(im)\n",
    "        images.append(im)"
   ]
  },
  {
   "cell_type": "markdown",
   "id": "e560590e",
   "metadata": {},
   "source": [
    "## Punto 2, 3 y 4"
   ]
  },
  {
   "cell_type": "markdown",
   "id": "4e5e17c7",
   "metadata": {},
   "source": [
    "### Definimos la imagen base para el escalado de las imágenes"
   ]
  },
  {
   "cell_type": "code",
   "execution_count": 7,
   "id": "f2d862a4",
   "metadata": {},
   "outputs": [],
   "source": [
    "baseImage = images[0]"
   ]
  },
  {
   "cell_type": "markdown",
   "id": "5858ee20",
   "metadata": {},
   "source": [
    "### Escalamos las imágenes, obtenemos los invariantes eta y los uno pixeles y presentamos los resultados en una tabla"
   ]
  },
  {
   "cell_type": "code",
   "execution_count": 8,
   "id": "72dd5af9",
   "metadata": {},
   "outputs": [
    {
     "name": "stdout",
     "output_type": "stream",
     "text": [
      "+-----------------+----------------------+-----------+--------------------+-------+-----------+-------+----------------+----------------+----------------+\n",
      "| Imagen          |   Factor de Escalado |   No. 1px |   No. 1px Escalada |   η00 |       η11 |   η22 |   η00 Escalada |   η11 Escalada |   η22 Escalada |\n",
      "+=================+======================+===========+====================+=======+===========+=======+================+================+================+\n",
      "| apple-1.jpg     |             1        |     28279 |              28279 |     1 | -3e-06    | 0     |              1 |      -3e-06    |          0     |\n",
      "+-----------------+----------------------+-----------+--------------------+-------+-----------+-------+----------------+----------------+----------------+\n",
      "| bat-1.jpg       |             0.561795 |     89600 |              28749 |     1 |  0.000391 | 0     |              1 |       0.000391 |          0     |\n",
      "+-----------------+----------------------+-----------+--------------------+-------+-----------+-------+----------------+----------------+----------------+\n",
      "| Bone-1.jpg      |             0.983564 |     29232 |              29132 |     1 | -0.001633 | 4e-06 |              1 |      -0.001634 |          4e-06 |\n",
      "+-----------------+----------------------+-----------+--------------------+-------+-----------+-------+----------------+----------------+----------------+\n",
      "| bottle-01.jpg   |             2.57648  |      4260 |              29592 |     1 | -0.0001   | 0     |              1 |      -0.0001   |          0     |\n",
      "+-----------------+----------------------+-----------+--------------------+-------+-----------+-------+----------------+----------------+----------------+\n",
      "| brick-01.jpg    |             1.53403  |     12017 |              29083 |     1 |  8.4e-05  | 0     |              1 |       8.4e-05  |          0     |\n",
      "+-----------------+----------------------+-----------+--------------------+-------+-----------+-------+----------------+----------------+----------------+\n",
      "| camel-1.jpg     |             0.800443 |     44137 |              28852 |     1 | -0.000198 | 0     |              1 |      -0.000198 |          0     |\n",
      "+-----------------+----------------------+-----------+--------------------+-------+-----------+-------+----------------+----------------+----------------+\n",
      "| octopus-1.jpg   |             0.942052 |     31865 |              29249 |     1 | -6e-06    | 0     |              1 |      -6e-06    |          0     |\n",
      "+-----------------+----------------------+-----------+--------------------+-------+-----------+-------+----------------+----------------+----------------+\n",
      "| pocket-1.jpg    |             1.43073  |     13815 |              31094 |     1 | -8e-06    | 0     |              1 |      -8e-06    |          0     |\n",
      "+-----------------+----------------------+-----------+--------------------+-------+-----------+-------+----------------+----------------+----------------+\n",
      "| sea_snake-1.jpg |             1.82981  |      8446 |              30330 |     1 | -0.000821 | 2e-06 |              1 |      -0.000821 |          2e-06 |\n",
      "+-----------------+----------------------+-----------+--------------------+-------+-----------+-------+----------------+----------------+----------------+\n",
      "| turtle-1.jpg    |             1.05634  |     25343 |              28939 |     1 |  0.000198 | 0     |              1 |       0.000198 |          0     |\n",
      "+-----------------+----------------------+-----------+--------------------+-------+-----------+-------+----------------+----------------+----------------+\n"
     ]
    }
   ],
   "source": [
    "scaledImages, etaInvariants, etaInvariantsScaled, scales, opx, opxScaled = ImageHelper.scaleImagesAndGetInvariants(baseImage, images)\n",
    "TableHelper.presentEtaInvariantsOnTable(imgList, scales, etaInvariants, etaInvariantsScaled, opx, opxScaled)"
   ]
  },
  {
   "cell_type": "markdown",
   "id": "7b69ccd4",
   "metadata": {},
   "source": [
    "### Con la función getTxtImagesFromFolder() generamos los archivos txt de las imagenes originales ya en aproximadamente la misma escala de 1-pixeles"
   ]
  },
  {
   "cell_type": "code",
   "execution_count": null,
   "id": "97bee618",
   "metadata": {},
   "outputs": [],
   "source": []
  },
  {
   "cell_type": "markdown",
   "id": "6b491737",
   "metadata": {},
   "source": [
    "## Punto 5"
   ]
  },
  {
   "cell_type": "code",
   "execution_count": 9,
   "id": "4f5a864b",
   "metadata": {},
   "outputs": [],
   "source": [
    "# ImageHelper.plotBinaryImagesFromFolder(txt_dir,plot_img_dir)"
   ]
  },
  {
   "cell_type": "markdown",
   "id": "1829c2bc",
   "metadata": {},
   "source": [
    "## Punto 6"
   ]
  },
  {
   "cell_type": "code",
   "execution_count": 10,
   "id": "2667a00b",
   "metadata": {},
   "outputs": [],
   "source": [
    "# ImageHelper.getContoursOfFolder(txt_dir,contour_txt_dir)\n",
    "# ImageHelper.plotBinaryImageNoGridFromFolder(contour_txt_dir,\"contour_images\")"
   ]
  },
  {
   "cell_type": "markdown",
   "id": "83e07e4b",
   "metadata": {},
   "source": [
    "## Punto 7"
   ]
  },
  {
   "cell_type": "markdown",
   "id": "41c9152c",
   "metadata": {},
   "source": [
    "### Trasladamos las imágenes y obtenemos las invariantes de mu (momentos centrales)"
   ]
  },
  {
   "cell_type": "code",
   "execution_count": 11,
   "id": "74666338",
   "metadata": {},
   "outputs": [
    {
     "name": "stdout",
     "output_type": "stream",
     "text": [
      "+-----------------+--------------------+-------------+--------------+-------------+------------------+------------------+------------------+\n",
      "| Imagen          | Traslación (x,y)   |         μ₀₀ |          μ₁₁ |         μ₂₂ |   μ₀₀ Trasladada |   μ₁₁ Trasladada |   μ₂₂ Trasladada |\n",
      "+=================+====================+=============+==============+=============+==================+==================+==================+\n",
      "| apple-1.jpg     | (130,-94)          | 7.21114e+06 | -1.51584e+08 | 2.43198e+13 |      7.21114e+06 |     -1.51584e+08 |      2.43198e+13 |\n",
      "+-----------------+--------------------+-------------+--------------+-------------+------------------+------------------+------------------+\n",
      "| bat-1.jpg       | (-149,-133)        | 2.2848e+07  |  2.04117e+11 | 5.88152e+15 |      2.2848e+07  |      2.04117e+11 |      5.88152e+15 |\n",
      "+-----------------+--------------------+-------------+--------------+-------------+------------------+------------------+------------------+\n",
      "| Bone-1.jpg      | (-183,197)         | 7.45416e+06 | -9.07528e+10 | 1.66022e+15 |      7.45416e+06 |     -9.07528e+10 |      1.66022e+15 |\n",
      "+-----------------+--------------------+-------------+--------------+-------------+------------------+------------------+------------------+\n",
      "| bottle-01.jpg   | (4,-47)            | 1.0863e+06  | -1.18468e+08 | 1.2339e+11  |      1.0863e+06  |     -1.18468e+08 |      1.2339e+11  |\n",
      "+-----------------+--------------------+-------------+--------------+-------------+------------------+------------------+------------------+\n",
      "| brick-01.jpg    | (9,-81)            | 3.06434e+06 |  7.86526e+08 | 3.29562e+12 |      3.06434e+06 |      7.86526e+08 |      3.29562e+12 |\n",
      "+-----------------+--------------------+-------------+--------------+-------------+------------------+------------------+------------------+\n",
      "| camel-1.jpg     | (189,-179)         | 1.12549e+07 | -2.5044e+10  | 2.67502e+14 |      1.12549e+07 |     -2.5044e+10  |      2.67502e+14 |\n",
      "+-----------------+--------------------+-------------+--------------+-------------+------------------+------------------+------------------+\n",
      "| octopus-1.jpg   | (115,166)          | 8.12558e+06 | -4.17061e+08 | 6.74755e+13 |      8.12558e+06 |     -4.17061e+08 |      6.74755e+13 |\n",
      "+-----------------+--------------------+-------------+--------------+-------------+------------------+------------------+------------------+\n",
      "| pocket-1.jpg    | (20,-94)           | 3.52282e+06 | -1.04939e+08 | 7.29166e+12 |      3.52282e+06 |     -1.04939e+08 |      7.29166e+12 |\n",
      "+-----------------+--------------------+-------------+--------------+-------------+------------------+------------------+------------------+\n",
      "| sea_snake-1.jpg | (-11,227)          | 2.15373e+06 | -3.8076e+09  | 2.1387e+13  |      2.15373e+06 |     -3.8076e+09  |      2.1387e+13  |\n",
      "+-----------------+--------------------+-------------+--------------+-------------+------------------+------------------+------------------+\n",
      "| turtle-1.jpg    | (183,166)          | 6.46246e+06 |  8.2622e+09  | 5.35216e+13 |      6.46246e+06 |      8.2622e+09  |      5.35216e+13 |\n",
      "+-----------------+--------------------+-------------+--------------+-------------+------------------+------------------+------------------+\n"
     ]
    }
   ],
   "source": [
    "translatedImages, muInvariants, muInvariantsTranslated, translations = ImageHelper.translateImagesAndGetInvariants(images)\n",
    "TableHelper.presentMuInvariantsOnTable(imgList, translations, muInvariants, muInvariantsTranslated)"
   ]
  },
  {
   "cell_type": "markdown",
   "id": "bb69eb41",
   "metadata": {},
   "source": [
    "## Punto 8"
   ]
  },
  {
   "cell_type": "markdown",
   "id": "5626be8e",
   "metadata": {},
   "source": [
    "### Rotamos las imágenes y obtenemos los invariantes de phi\n"
   ]
  },
  {
   "cell_type": "code",
   "execution_count": 12,
   "id": "78da8928",
   "metadata": {},
   "outputs": [
    {
     "name": "stdout",
     "output_type": "stream",
     "text": [
      "+-----------------+----------------------+-------------+--------------+-------------+-------------+--------------+-------------+\n",
      "| Imagen          | Grados de Rotación   |          φ₁ |           φ₂ |          φ₃ |   φ₁ Rotada |    φ₂ Rotada |   φ₃ Rotada |\n",
      "+=================+======================+=============+==============+=============+=============+==============+=============+\n",
      "| apple-1.jpg     | 69°                  | 3.30284e+10 | -2.77587e+20 | 5.41622e+22 | 3.3017e+10  | -2.72042e+20 | 5.41128e+22 |\n",
      "+-----------------+----------------------+-------------+--------------+-------------+-------------+--------------+-------------+\n",
      "| bat-1.jpg       | 52°                  | 6.59068e+11 |  5.22856e+22 | 7.66332e+27 | 6.58865e+11 | -1.00141e+22 | 7.65905e+27 |\n",
      "+-----------------+----------------------+-------------+--------------+-------------+-------------+--------------+-------------+\n",
      "| Bone-1.jpg      | 133°                 | 2.03891e+11 |  1.48658e+22 | 4.64051e+25 | 1.55223e+11 |  1.59552e+21 | 7.84985e+25 |\n",
      "+-----------------+----------------------+-------------+--------------+-------------+-------------+--------------+-------------+\n",
      "| bottle-01.jpg   | 143°                 | 1.60472e+09 | -2.16033e+18 | 6.60127e+20 | 1.60344e+09 |  1.14499e+18 | 6.56705e+20 |\n",
      "+-----------------+----------------------+-------------+--------------+-------------+-------------+--------------+-------------+\n",
      "| brick-01.jpg    | 256°                 | 1.01071e+10 |  1.10252e+18 | 7.94309e+20 | 1.01031e+10 | -4.04332e+19 | 7.93639e+20 |\n",
      "+-----------------+----------------------+-------------+--------------+-------------+-------------+--------------+-------------+\n",
      "| camel-1.jpg     | 98°                  | 1.07386e+11 | -4.54187e+20 | 5.21503e+24 | 1.07343e+11 |  1.55493e+20 | 5.21121e+24 |\n",
      "+-----------------+----------------------+-------------+--------------+-------------+-------------+--------------+-------------+\n",
      "| octopus-1.jpg   | 249°                 | 4.83792e+10 | -8.09538e+20 | 3.24556e+23 | 4.83575e+10 | -4.12821e+20 | 3.24308e+23 |\n",
      "+-----------------+----------------------+-------------+--------------+-------------+-------------+--------------+-------------+\n",
      "| pocket-1.jpg    | 301°                 | 1.48658e+10 | -9.74587e+19 | 9.4502e+22  | 1.48551e+10 | -2.06022e+19 | 9.43418e+22 |\n",
      "+-----------------+----------------------+-------------+--------------+-------------+-------------+--------------+-------------+\n",
      "| sea_snake-1.jpg | 283°                 | 1.21883e+10 |  2.26282e+19 | 1.66933e+23 | 1.21808e+10 |  2.78169e+19 | 1.66716e+23 |\n",
      "+-----------------+----------------------+-------------+--------------+-------------+-------------+--------------+-------------+\n",
      "| turtle-1.jpg    | 60°                  | 3.5834e+10  |  1.51889e+20 | 1.95417e+23 | 3.58181e+10 |  2.06846e+20 | 1.95031e+23 |\n",
      "+-----------------+----------------------+-------------+--------------+-------------+-------------+--------------+-------------+\n"
     ]
    }
   ],
   "source": [
    "scaledImages, phiInvariants, phiInvariantsScaled, degrees = ImageHelper.rotateImagesAndGetInvariants(images)\n",
    "TableHelper.presentPhiInvariantsOnTable(imgList, degrees, phiInvariants, phiInvariantsScaled)"
   ]
  },
  {
   "cell_type": "markdown",
   "id": "ae88a53e",
   "metadata": {},
   "source": [
    "## Punto 9"
   ]
  },
  {
   "cell_type": "markdown",
   "id": "6cdc7634",
   "metadata": {},
   "source": [
    "### Generamos los cambios mofologicos y remarcamos las diferencias con la imagen original con color verde"
   ]
  },
  {
   "cell_type": "code",
   "execution_count": 13,
   "id": "970cfe7b",
   "metadata": {},
   "outputs": [],
   "source": [
    "# MorphologyHelper.getMorphImagesFromFolder(txt_dir,morph_dir)"
   ]
  }
 ],
 "metadata": {
  "kernelspec": {
   "display_name": "Python 3",
   "language": "python",
   "name": "python3"
  },
  "language_info": {
   "codemirror_mode": {
    "name": "ipython",
    "version": 3
   },
   "file_extension": ".py",
   "mimetype": "text/x-python",
   "name": "python",
   "nbconvert_exporter": "python",
   "pygments_lexer": "ipython3",
   "version": "3.11.5"
  }
 },
 "nbformat": 4,
 "nbformat_minor": 5
}
